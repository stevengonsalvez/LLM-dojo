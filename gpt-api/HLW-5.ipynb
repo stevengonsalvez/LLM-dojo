{
 "cells": [
  {
   "attachments": {},
   "cell_type": "markdown",
   "id": "ff36c035-80da-40b4-b7b4-04f25d3c5f3f",
   "metadata": {},
   "source": [
    "# Chaining Prompts\n"
   ]
  },
  {
   "attachments": {},
   "cell_type": "markdown",
   "id": "152d3b2b",
   "metadata": {},
   "source": [
    "<a href=\"https://colab.research.google.com/github/stevengonsalvez/LLM-dojo/blob/main/gpt-api/HLW-5.ipynb\" target=\"_parent\"><img src=\"https://colab.research.google.com/assets/colab-badge.svg\" alt=\"Open In Colab\"/></a>"
   ]
  },
  {
   "attachments": {},
   "cell_type": "markdown",
   "id": "fa247fb7-48bd-445e-82cc-e1b93893ab8b",
   "metadata": {},
   "source": [
    "## Setup\n",
    "#### Load the API key and relevant Python libaries.\n",
    "In this course, we've provided some code that loads the OpenAI API key for you."
   ]
  },
  {
   "cell_type": "code",
   "execution_count": null,
   "id": "8579fb11",
   "metadata": {},
   "outputs": [],
   "source": [
    "!pip install openai tiktoken python-dotenv"
   ]
  },
  {
   "cell_type": "code",
   "execution_count": 1,
   "id": "230146b2",
   "metadata": {},
   "outputs": [],
   "source": [
    "import os\n",
    "import openai\n",
    "from dotenv import load_dotenv, find_dotenv\n",
    "_ = load_dotenv(find_dotenv()) # read local .env file\n",
    "\n",
    "openai.api_key  = os.environ['OPENAI_API_KEY']"
   ]
  },
  {
   "cell_type": "code",
   "execution_count": 2,
   "id": "032b3add",
   "metadata": {},
   "outputs": [],
   "source": [
    "def get_completion_from_messages(messages, \n",
    "                                 model=\"gpt-3.5-turbo\", \n",
    "                                 temperature=0, \n",
    "                                 max_tokens=500):\n",
    "    response = openai.ChatCompletion.create(\n",
    "        model=model,\n",
    "        messages=messages,\n",
    "        temperature=temperature, \n",
    "        max_tokens=max_tokens, \n",
    "    )\n",
    "    return response.choices[0].message[\"content\"]"
   ]
  },
  {
   "attachments": {},
   "cell_type": "markdown",
   "id": "893e03f3-beaf-407d-be10-120d0f5760af",
   "metadata": {},
   "source": [
    "## Implement a complex task with multiple prompts\n",
    "\n",
    "### Extract relevant product and category names"
   ]
  },
  {
   "cell_type": "code",
   "execution_count": 23,
   "id": "cb6059af",
   "metadata": {},
   "outputs": [
    {
     "name": "stdout",
     "output_type": "stream",
     "text": [
      "[\n",
      "  {\n",
      "    \"category\": \"Smartphones and Accessories\",\n",
      "    \"products\": [\n",
      "      \"iPhone 14 Pro\"\n",
      "    ]\n",
      "  },\n",
      "  {\n",
      "    \"category\": \"Gaming Consoles and Accessories\",\n",
      "    \"products\": [\n",
      "      \"Nintendo Switch\"\n",
      "    ]\n",
      "  },\n",
      "  {\n",
      "    \"category\": \"Computers and Laptops\",\n",
      "    \"products\": [\n",
      "      \"Fibre Broadband\"\n",
      "    ]\n",
      "  }\n",
      "]\n"
     ]
    }
   ],
   "source": [
    "delimiter = \"####\"\n",
    "system_message = f\"\"\"\n",
    "You will be provided with customer service queries. \\\n",
    "The customer service query will be delimited with \\\n",
    "{delimiter} characters.\n",
    "Output a python list of objects, where each object has \\\n",
    "the following format:\n",
    "    'category': <one of Phones, \\\n",
    "    Broadband, \\\n",
    "    Home security, \\\n",
    "    Accessories and electronics>,\n",
    "OR\n",
    "    'products': <a list of products that must \\\n",
    "    be found in the allowed products below>\n",
    "\n",
    "Where the categories and products must be found in \\\n",
    "the customer service query.\n",
    "If a product is mentioned, it must be associated with \\\n",
    "the correct category in the allowed products list below.\n",
    "If no products or categories are found, output an \\\n",
    "empty list.\n",
    "\n",
    "Allowed products: \n",
    "\n",
    "Phones Category: \n",
    "iPhone 14 Pro\n",
    "iPhone 13 Mini\n",
    "iPhone SE (2022)\n",
    "Samsung Galaxy S21 Ultra\n",
    "Samsung Galaxy Note 20\n",
    "Samsung Galaxy A52\n",
    "Samsung Galaxy Z Fold 3\n",
    "Google Pixel 6 Pro\n",
    "Google Pixel 5a\n",
    "Google Pixel 4a 5G\n",
    "\n",
    "\n",
    "Broadband Category: \n",
    "EE 5G Broadband\n",
    "Fibre Broadband\n",
    "\n",
    "\n",
    "Home Security category:\n",
    "Ring Video Doorbell Pro\n",
    "Arlo Pro 4 Security Camera System\n",
    "Nest Secure Alarm System\n",
    "SimpliSafe Home Security System\n",
    "\n",
    "Accessories and Electronics category:\n",
    "Apple AirPods Pro\n",
    "Samsung Galaxy Watch Active 2\n",
    "Sony WH-1000XM4 Wireless Headphones\n",
    "Amazon Echo Dot (4th Gen)\n",
    "Nintendo Switch\n",
    "Anker PowerCore 26800 Portable Charger\n",
    "\n",
    "Only output the list of objects, with nothing else.\n",
    "\"\"\"\n",
    "user_message_1 = f\"\"\"\n",
    " tell me about the iphone 14 pro phone and \\\n",
    " the nintendo switch. \\\n",
    " Also tell me about your broadband \"\"\"\n",
    "messages =  [  \n",
    "{'role':'system', \n",
    " 'content': system_message},    \n",
    "{'role':'user', \n",
    " 'content': f\"{delimiter}{user_message_1}{delimiter}\"},  \n",
    "] \n",
    "category_and_product_response_1 = get_completion_from_messages(messages)\n",
    "print(category_and_product_response_1)"
   ]
  },
  {
   "cell_type": "code",
   "execution_count": 24,
   "id": "1aa1367c",
   "metadata": {},
   "outputs": [
    {
     "name": "stdout",
     "output_type": "stream",
     "text": [
      "[]\n"
     ]
    }
   ],
   "source": [
    "user_message_2 = f\"\"\"\n",
    "my boiler isn't working\"\"\"\n",
    "messages =  [  \n",
    "{'role':'system',\n",
    " 'content': system_message},    \n",
    "{'role':'user',\n",
    " 'content': f\"{delimiter}{user_message_2}{delimiter}\"},  \n",
    "] \n",
    "response = get_completion_from_messages(messages)\n",
    "print(response)"
   ]
  },
  {
   "attachments": {},
   "cell_type": "markdown",
   "id": "adb67e58-78e3-49e3-830e-5983131723ab",
   "metadata": {},
   "source": [
    "### Retrieve detailed product information for extracted products and categories"
   ]
  },
  {
   "cell_type": "code",
   "execution_count": 18,
   "id": "502fb261",
   "metadata": {},
   "outputs": [],
   "source": [
    "# product information\n",
    "products = {\n",
    "    \"iPhone 14 Pro\": {\n",
    "      \"name\": \"iPhone 14 Pro\",\n",
    "      \"category\": \"Phones\",\n",
    "      \"brand\": \"Apple\",\n",
    "      \"model_number\": \"14 Pro\",\n",
    "      \"warranty\": \"1 year\",\n",
    "      \"rating\": 4.5,\n",
    "      \"features\": [\"6.7-inch Super Retina XDR display\", \"A15 Bionic chip\", \"128GB storage\"],\n",
    "      \"description\": \"The latest flagship iPhone with a stunning display and powerful performance.\",\n",
    "      \"price_monthly\": \"£70\"\n",
    "    },\n",
    "    \"iPhone 13 Mini\": {\n",
    "      \"name\": \"iPhone 13 Mini\",\n",
    "      \"category\": \"Phones\",\n",
    "      \"brand\": \"Apple\",\n",
    "      \"model_number\": \"13 Mini\",\n",
    "      \"warranty\": \"1 year\",\n",
    "      \"rating\": 4.5,\n",
    "      \"features\": [\"5.4-inch Super Retina XDR display\", \"A15 Bionic chip\", \"64GB storage\"],\n",
    "      \"description\": \"Compact yet powerful iPhone with advanced features and impressive camera capabilities.\",\n",
    "      \"price_monthly\": \"£50\"\n",
    "    },\n",
    "    \"iPhone SE (2022)\": {\n",
    "      \"name\": \"iPhone SE (2022)\",\n",
    "      \"category\": \"Phones\",\n",
    "      \"brand\": \"Apple\",\n",
    "      \"model_number\": \"SE (2022)\",\n",
    "      \"warranty\": \"1 year\",\n",
    "      \"rating\": 4.5,\n",
    "      \"features\": [\"4.7-inch Retina HD display\", \"A14 Bionic chip\", \"256GB storage\"],\n",
    "      \"description\": \"The budget-friendly iPhone with powerful performance and a compact design.\",\n",
    "      \"price_monthly\": \"£30\"\n",
    "    },\n",
    "    \"Samsung Galaxy S21 Ultra\": {\n",
    "      \"name\": \"Samsung Galaxy S21 Ultra\",\n",
    "      \"category\": \"Phones\",\n",
    "      \"brand\": \"Samsung\",\n",
    "      \"model_number\": \"S21 Ultra\",\n",
    "      \"warranty\": \"1 year\",\n",
    "      \"rating\": 4.5,\n",
    "      \"features\": [\"6.8-inch Dynamic AMOLED 2X display\", \"Exynos 2100/Snapdragon 888 processor\", \"512GB storage\"],\n",
    "      \"description\": \"Flagship smartphone with a large display, advanced camera system, and powerful performance.\",\n",
    "      \"price_monthly\": \"£60\"\n",
    "    },\n",
    "    \"Samsung Galaxy Note 20\": {\n",
    "      \"name\": \"Samsung Galaxy Note 20\",\n",
    "      \"category\": \"Phones\",\n",
    "      \"brand\": \"Samsung\",\n",
    "      \"model_number\": \"Note 20\",\n",
    "      \"warranty\": \"1 year\",\n",
    "      \"rating\": 4.5,\n",
    "      \"features\": [\"6.7-inch Super AMOLED Plus display\", \"Exynos 990/Snapdragon 865+ processor\", \"256GB storage\"],\n",
    "      \"description\": \"Versatile smartphone with S Pen support, excellent display, and a powerful camera.\",\n",
    "      \"price_monthly\": \"£55\"\n",
    "    },\n",
    "    \"Samsung Galaxy A52\": {\n",
    "      \"name\": \"Samsung Galaxy A52\",\n",
    "      \"category\": \"Phones\",\n",
    "      \"brand\": \"Samsung\",\n",
    "      \"model_number\": \"A52\",\n",
    "      \"warranty\": \"1 year\",\n",
    "      \"rating\": 4.5,\n",
    "      \"features\": [\"6.5-inch Super AMOLED display\", \"Snapdragon 720G processor\", \"128GB storage\"],\n",
    "      \"description\": \"Mid-range smartphone with a high-quality display, versatile camera, and long battery life.\",\n",
    "      \"price_monthly\": \"£30\"\n",
    "    },\n",
    "    \"Samsung Galaxy Z Fold 3\": {\n",
    "      \"name\": \"Samsung Galaxy Z Fold 3\",\n",
    "      \"category\": \"Phones\",\n",
    "      \"brand\": \"Samsung\",\n",
    "      \"model_number\": \"Z Fold 3\",\n",
    "      \"warranty\": \"1 year\",\n",
    "      \"rating\": 4.5,\n",
    "      \"features\": [\"7.6-inch Dynamic AMOLED 2X display\", \"Snapdragon 888 processor\", \"256GB storage\"],\n",
    "      \"description\": \"Foldable smartphone with a large immersive display, powerful performance, and versatile camera setup.\",\n",
    "      \"price_monthly\": \"£90\"\n",
    "    },\n",
    "    \"Google Pixel 6 Pro\": {\n",
    "      \"name\": \"Google Pixel 6 Pro\",\n",
    "      \"category\": \"Phones\",\n",
    "      \"brand\": \"Google\",\n",
    "      \"model_number\": \"6 Pro\",\n",
    "      \"warranty\": \"1 year\",\n",
    "      \"rating\": 4.5,\n",
    "      \"features\": [\"6.7-inch Fluid AMOLED display\", \"Google Tensor chip\", \"256GB storage\"],\n",
    "      \"description\": \"Flagship smartphone with advanced computational photography, Google software features, and 5G support.\",\n",
    "      \"price_monthly\": \"£55\"\n",
    "    },\n",
    "    \"Google Pixel 5a\": {\n",
    "      \"name\": \"Google Pixel 5a\",\n",
    "      \"category\": \"Phones\",\n",
    "      \"brand\": \"Google\",\n",
    "      \"model_number\": \"5a\",\n",
    "      \"warranty\": \"1 year\",\n",
    "      \"rating\": 4.5,\n",
    "      \"features\": [\"6.34-inch OLED display\", \"Qualcomm Snapdragon 765G processor\", \"128GB storage\"],\n",
    "      \"description\": \"Mid-range smartphone with a solid camera system, stock Android experience, and long-lasting battery life.\",\n",
    "      \"price_monthly\": \"£35\"\n",
    "    },\n",
    "    \"Google Pixel 4a 5G\": {\n",
    "      \"name\": \"Google Pixel 4a 5G\",\n",
    "      \"category\": \"Phones\",\n",
    "      \"brand\": \"Google\",\n",
    "      \"model_number\": \"4a 5G\",\n",
    "      \"warranty\": \"1 year\",\n",
    "      \"rating\": 4.5,\n",
    "      \"features\": [\"6.2-inch OLED display\", \"Qualcomm Snapdragon 765G processor\", \"128GB storage\"],\n",
    "      \"description\": \"Affordable 5G smartphone with a great camera and a clean Android experience.\",\n",
    "      \"price_monthly\": \"£30\"\n",
    "    },\n",
    "    \"EE 5G Broadband\": {\n",
    "      \"name\": \"EE 5G Broadband\",\n",
    "      \"category\": \"Broadband\",\n",
    "      \"brand\": \"EE\",\n",
    "      \"model_number\": \"5G\",\n",
    "      \"warranty\": \"2 years\",\n",
    "      \"rating\": 4.5,\n",
    "      \"features\": [\"Superfast 5G home broadband\", \"Unlimited data\", \"Easy installation\"],\n",
    "      \"description\": \"High-speed home broadband powered by 5G technology, offering fast and reliable connectivity.\",\n",
    "      \"price_monthly\": \"£40\"\n",
    "    },\n",
    "    \"Fibre Broadband\": {\n",
    "      \"name\": \"Fibre Broadband\",\n",
    "      \"category\": \"Broadband\",\n",
    "      \"brand\": \"Various\",\n",
    "      \"model_number\": \"N/A\",\n",
    "      \"warranty\": \"1 year\",\n",
    "      \"rating\": 4.5,\n",
    "      \"features\": [\"Superfast fibre optic broadband\", \"Unlimited data\", \"High download and upload speeds\"],\n",
    "      \"description\": \"High-speed fibre broadband service offering fast and stable internet connection for your home.\",\n",
    "      \"price_monthly\": \"£35\"\n",
    "    },\n",
    "    \"Ring Video Doorbell Pro\": {\n",
    "      \"name\": \"Ring Video Doorbell Pro\",\n",
    "      \"category\": \"Home Security\",\n",
    "      \"brand\": \"Ring\",\n",
    "      \"model_number\": \"Video Doorbell Pro\",\n",
    "      \"warranty\": \"1 year\",\n",
    "      \"rating\": 4.5,\n",
    "      \"features\": [\"1080p HD video\", \"Advanced motion detection\", \"Two-way audio\"],\n",
    "      \"description\": \"Smart video doorbell with enhanced features to monitor your front door and communicate with visitors.\",\n",
    "      \"price_monthly\": \"£20\"\n",
    "    },\n",
    "    \"Arlo Pro 4 Security Camera System\": {\n",
    "      \"name\": \"Arlo Pro 4 Security Camera System\",\n",
    "      \"category\": \"Home Security\",\n",
    "      \"brand\": \"Arlo\",\n",
    "      \"model_number\": \"Pro 4\",\n",
    "      \"warranty\": \"1 year\",\n",
    "      \"rating\": 4.5,\n",
    "      \"features\": [\"Wire-free security cameras\", \"2K HDR video\", \"Color Night Vision\"],\n",
    "      \"description\": \"Wire-free security camera system with advanced features for monitoring your home and property.\",\n",
    "      \"price_monthly\": \"£25\"\n",
    "    },\n",
    "    \"Nest Secure Alarm System\": {\n",
    "      \"name\": \"Nest Secure Alarm System\",\n",
    "      \"category\": \"Home Security\",\n",
    "      \"brand\": \"Google Nest\",\n",
    "      \"model_number\": \"Secure Alarm System\",\n",
    "      \"warranty\": \"1 year\",\n",
    "      \"rating\": 4.5,\n",
    "      \"features\": [\"Smart home security system\", \"Built-in Google Assistant\", \"24/7 professional monitoring\"],\n",
    "      \"description\": \"Comprehensive home security system with intelligent features and seamless integration with Google Assistant.\",\n",
    "      \"price_monthly\": \"£30\"\n",
    "    },\n",
    "    \"SimpliSafe Home Security System\": {\n",
    "      \"name\": \"SimpliSafe Home Security System\",\n",
    "      \"category\": \"Home Security\",\n",
    "      \"brand\": \"SimpliSafe\",\n",
    "      \"model_number\": \"Home Security System\",\n",
    "      \"warranty\": \"1 year\",\n",
    "      \"rating\": 4.5,\n",
    "      \"features\": [\"Wireless home security system\", \"Customizable monitoring options\", \"Mobile app control\"],\n",
    "      \"description\": \"Easy-to-install and customizable home security system designed to protect your home and loved ones.\",\n",
    "      \"price_monthly\": \"£20\"\n",
    "    },\n",
    "    \"Apple AirPods Pro\": {\n",
    "      \"name\": \"Apple AirPods Pro\",\n",
    "      \"category\": \"Accessories and Electronics\",\n",
    "      \"brand\": \"Apple\",\n",
    "      \"model_number\": \"AirPods Pro\",\n",
    "      \"warranty\": \"1 year\",\n",
    "      \"rating\": 4.5,\n",
    "      \"features\": [\"Active Noise Cancellation\", \"Transparency mode\", \"Wireless charging case\"],\n",
    "      \"description\": \"Premium wireless earbuds with active noise cancellation for immersive audio experience.\",\n",
    "      \"price_monthly\": \"£20\"\n",
    "    },\n",
    "    \"Samsung Galaxy Watch Active 2\": {\n",
    "      \"name\": \"Samsung Galaxy Watch Active 2\",\n",
    "      \"category\": \"Accessories and Electronics\",\n",
    "      \"brand\": \"Samsung\",\n",
    "      \"model_number\": \"Galaxy Watch Active 2\",\n",
    "      \"warranty\": \"1 year\",\n",
    "      \"rating\": 4.5,\n",
    "      \"features\": [\"Stylish smartwatch\", \"Heart rate monitoring\", \"Built-in GPS\"],\n",
    "      \"description\": \"Sleek and feature-rich smartwatch to track your fitness goals and stay connected.\",\n",
    "      \"price_monthly\": \"£15\"\n",
    "    },\n",
    "    \"Sony WH-1000XM4 Wireless Headphones\": {\n",
    "      \"name\": \"Sony WH-1000XM4 Wireless Headphones\",\n",
    "      \"category\": \"Accessories and Electronics\",\n",
    "      \"brand\": \"Sony\",\n",
    "      \"model_number\": \"WH-1000XM4\",\n",
    "      \"warranty\": \"1 year\",\n",
    "      \"rating\": 4.5,\n",
    "      \"features\": [\"Industry-leading noise cancellation\", \"High-quality sound\", \"30-hour battery life\"],\n",
    "      \"description\": \"Premium wireless headphones with exceptional noise cancellation and immersive sound quality.\",\n",
    "      \"price_monthly\": \"£25\"\n",
    "    },\n",
    "    \"Amazon Echo Dot (4th Gen)\": {\n",
    "      \"name\": \"Amazon Echo Dot (4th Gen)\",\n",
    "      \"category\": \"Accessories and Electronics\",\n",
    "      \"brand\": \"Amazon\",\n",
    "      \"model_number\": \"Echo Dot (4th Gen)\",\n",
    "      \"warranty\": \"1 year\",\n",
    "      \"rating\": 4.5,\n",
    "      \"features\": [\"Smart speaker with Alexa\", \"Compact design\", \"Voice control for your smart home\"],\n",
    "      \"description\": \"Smart speaker with a sleek design and built-in voice assistant to control your smart home devices.\",\n",
    "      \"price_monthly\": \"£10\"\n",
    "    },\n",
    "    \"Nintendo Switch\": {\n",
    "      \"name\": \"Nintendo Switch\",\n",
    "      \"category\": \"Accessories and Electronics\",\n",
    "      \"brand\": \"Nintendo\",\n",
    "      \"model_number\": \"Switch\",\n",
    "      \"warranty\": \"1 year\",\n",
    "      \"rating\": 4.5,\n",
    "      \"features\": [\"Hybrid gaming console\", \"Play at home or on the go\", \"Wide library of games\"],\n",
    "      \"description\": \"Versatile gaming console that allows you to play your favorite games both on your TV and as a handheld device.\",\n",
    "      \"price_monthly\": \"£30\"\n",
    "    },\n",
    "    \"Anker PowerCore 26800 Portable Charger\": {\n",
    "      \"name\": \"Anker PowerCore 26800 Portable Charger\",\n",
    "      \"category\": \"Accessories and Electronics\",\n",
    "      \"brand\": \"Anker\",\n",
    "      \"model_number\": \"PowerCore 26800\",\n",
    "      \"warranty\": \"1 year\",\n",
    "      \"rating\": 4.5,\n",
    "      \"features\": [\"High-capacity portable charger\", \"Dual USB ports\", \"Fast charging\"],\n",
    "      \"description\": \"Powerful and portable charger to keep your devices powered on the go with multiple charging ports.\",\n",
    "      \"price_monthly\": \"£15\"\n",
    "    }\n",
    "  }"
   ]
  },
  {
   "cell_type": "code",
   "execution_count": 19,
   "id": "64d0e64e",
   "metadata": {},
   "outputs": [],
   "source": [
    "def get_product_by_name(name):\n",
    "    return products.get(name, None)\n",
    "\n",
    "def get_products_by_category(category):\n",
    "    return [product for product in products.values() if product[\"category\"] == category]"
   ]
  },
  {
   "cell_type": "code",
   "execution_count": 20,
   "id": "11b08b69",
   "metadata": {},
   "outputs": [
    {
     "name": "stdout",
     "output_type": "stream",
     "text": [
      "{'name': 'Nintendo Switch', 'category': 'Accessories and Electronics', 'brand': 'Nintendo', 'model_number': 'Switch', 'warranty': '1 year', 'rating': 4.5, 'features': ['Hybrid gaming console', 'Play at home or on the go', 'Wide library of games'], 'description': 'Versatile gaming console that allows you to play your favorite games both on your TV and as a handheld device.', 'price_monthly': '£30'}\n"
     ]
    }
   ],
   "source": [
    "print(get_product_by_name(\"Nintendo Switch\"))"
   ]
  },
  {
   "cell_type": "code",
   "execution_count": 21,
   "id": "0f40b043",
   "metadata": {},
   "outputs": [
    {
     "name": "stdout",
     "output_type": "stream",
     "text": [
      "[{'name': 'iPhone 14 Pro', 'category': 'Phones', 'brand': 'Apple', 'model_number': '14 Pro', 'warranty': '1 year', 'rating': 4.5, 'features': ['6.7-inch Super Retina XDR display', 'A15 Bionic chip', '128GB storage'], 'description': 'The latest flagship iPhone with a stunning display and powerful performance.', 'price_monthly': '£70'}, {'name': 'iPhone 13 Mini', 'category': 'Phones', 'brand': 'Apple', 'model_number': '13 Mini', 'warranty': '1 year', 'rating': 4.5, 'features': ['5.4-inch Super Retina XDR display', 'A15 Bionic chip', '64GB storage'], 'description': 'Compact yet powerful iPhone with advanced features and impressive camera capabilities.', 'price_monthly': '£50'}, {'name': 'iPhone SE (2022)', 'category': 'Phones', 'brand': 'Apple', 'model_number': 'SE (2022)', 'warranty': '1 year', 'rating': 4.5, 'features': ['4.7-inch Retina HD display', 'A14 Bionic chip', '256GB storage'], 'description': 'The budget-friendly iPhone with powerful performance and a compact design.', 'price_monthly': '£30'}, {'name': 'Samsung Galaxy S21 Ultra', 'category': 'Phones', 'brand': 'Samsung', 'model_number': 'S21 Ultra', 'warranty': '1 year', 'rating': 4.5, 'features': ['6.8-inch Dynamic AMOLED 2X display', 'Exynos 2100/Snapdragon 888 processor', '512GB storage'], 'description': 'Flagship smartphone with a large display, advanced camera system, and powerful performance.', 'price_monthly': '£60'}, {'name': 'Samsung Galaxy Note 20', 'category': 'Phones', 'brand': 'Samsung', 'model_number': 'Note 20', 'warranty': '1 year', 'rating': 4.5, 'features': ['6.7-inch Super AMOLED Plus display', 'Exynos 990/Snapdragon 865+ processor', '256GB storage'], 'description': 'Versatile smartphone with S Pen support, excellent display, and a powerful camera.', 'price_monthly': '£55'}, {'name': 'Samsung Galaxy A52', 'category': 'Phones', 'brand': 'Samsung', 'model_number': 'A52', 'warranty': '1 year', 'rating': 4.5, 'features': ['6.5-inch Super AMOLED display', 'Snapdragon 720G processor', '128GB storage'], 'description': 'Mid-range smartphone with a high-quality display, versatile camera, and long battery life.', 'price_monthly': '£30'}, {'name': 'Samsung Galaxy Z Fold 3', 'category': 'Phones', 'brand': 'Samsung', 'model_number': 'Z Fold 3', 'warranty': '1 year', 'rating': 4.5, 'features': ['7.6-inch Dynamic AMOLED 2X display', 'Snapdragon 888 processor', '256GB storage'], 'description': 'Foldable smartphone with a large immersive display, powerful performance, and versatile camera setup.', 'price_monthly': '£90'}, {'name': 'Google Pixel 6 Pro', 'category': 'Phones', 'brand': 'Google', 'model_number': '6 Pro', 'warranty': '1 year', 'rating': 4.5, 'features': ['6.7-inch Fluid AMOLED display', 'Google Tensor chip', '256GB storage'], 'description': 'Flagship smartphone with advanced computational photography, Google software features, and 5G support.', 'price_monthly': '£55'}, {'name': 'Google Pixel 5a', 'category': 'Phones', 'brand': 'Google', 'model_number': '5a', 'warranty': '1 year', 'rating': 4.5, 'features': ['6.34-inch OLED display', 'Qualcomm Snapdragon 765G processor', '128GB storage'], 'description': 'Mid-range smartphone with a solid camera system, stock Android experience, and long-lasting battery life.', 'price_monthly': '£35'}, {'name': 'Google Pixel 4a 5G', 'category': 'Phones', 'brand': 'Google', 'model_number': '4a 5G', 'warranty': '1 year', 'rating': 4.5, 'features': ['6.2-inch OLED display', 'Qualcomm Snapdragon 765G processor', '128GB storage'], 'description': 'Affordable 5G smartphone with a great camera and a clean Android experience.', 'price_monthly': '£30'}]\n"
     ]
    }
   ],
   "source": [
    "print(get_products_by_category(\"Phones\"))"
   ]
  },
  {
   "cell_type": "code",
   "execution_count": 25,
   "id": "04aa364d",
   "metadata": {},
   "outputs": [
    {
     "name": "stdout",
     "output_type": "stream",
     "text": [
      "\n",
      " tell me about the iphone 14 pro phone and  the nintendo switch.  Also tell me about your broadband \n"
     ]
    }
   ],
   "source": [
    "print(user_message_1)"
   ]
  },
  {
   "cell_type": "code",
   "execution_count": 26,
   "id": "5d09ff6b",
   "metadata": {},
   "outputs": [
    {
     "name": "stdout",
     "output_type": "stream",
     "text": [
      "[\n",
      "  {\n",
      "    \"category\": \"Smartphones and Accessories\",\n",
      "    \"products\": [\n",
      "      \"iPhone 14 Pro\"\n",
      "    ]\n",
      "  },\n",
      "  {\n",
      "    \"category\": \"Gaming Consoles and Accessories\",\n",
      "    \"products\": [\n",
      "      \"Nintendo Switch\"\n",
      "    ]\n",
      "  },\n",
      "  {\n",
      "    \"category\": \"Computers and Laptops\",\n",
      "    \"products\": [\n",
      "      \"Fibre Broadband\"\n",
      "    ]\n",
      "  }\n",
      "]\n"
     ]
    }
   ],
   "source": [
    "print(category_and_product_response_1)"
   ]
  },
  {
   "attachments": {},
   "cell_type": "markdown",
   "id": "62e73370-597a-4195-94b2-e9d188113d7c",
   "metadata": {},
   "source": [
    "### Read Python string into Python list of dictionaries"
   ]
  },
  {
   "cell_type": "code",
   "execution_count": 28,
   "id": "ea0a3506",
   "metadata": {},
   "outputs": [],
   "source": [
    "import json \n",
    "\n",
    "def read_string_to_list(input_string):\n",
    "    if input_string is None:\n",
    "        return None\n",
    "\n",
    "    try:\n",
    "        input_string = input_string.replace(\"'\", \"\\\"\")  # Replace single quotes with double quotes for valid JSON\n",
    "        data = json.loads(input_string)\n",
    "        return data\n",
    "    except json.JSONDecodeError:\n",
    "        print(\"Error: Invalid JSON string\")\n",
    "        return None   \n",
    "    "
   ]
  },
  {
   "cell_type": "code",
   "execution_count": 29,
   "id": "488a2024",
   "metadata": {},
   "outputs": [
    {
     "name": "stdout",
     "output_type": "stream",
     "text": [
      "[{'category': 'Smartphones and Accessories', 'products': ['iPhone 14 Pro']}, {'category': 'Gaming Consoles and Accessories', 'products': ['Nintendo Switch']}, {'category': 'Computers and Laptops', 'products': ['Fibre Broadband']}]\n"
     ]
    }
   ],
   "source": [
    "category_and_product_list = read_string_to_list(category_and_product_response_1)\n",
    "print(category_and_product_list)"
   ]
  },
  {
   "attachments": {},
   "cell_type": "markdown",
   "id": "97915cdf-137a-41a0-84e0-edcf269a37cd",
   "metadata": {},
   "source": [
    "#### Retrieve detailed product information for the relevant products and categories"
   ]
  },
  {
   "cell_type": "code",
   "execution_count": 30,
   "id": "8d571c2c",
   "metadata": {},
   "outputs": [],
   "source": [
    "def generate_output_string(data_list):\n",
    "    output_string = \"\"\n",
    "\n",
    "    if data_list is None:\n",
    "        return output_string\n",
    "\n",
    "    for data in data_list:\n",
    "        try:\n",
    "            if \"products\" in data:\n",
    "                products_list = data[\"products\"]\n",
    "                for product_name in products_list:\n",
    "                    product = get_product_by_name(product_name)\n",
    "                    if product:\n",
    "                        output_string += json.dumps(product, indent=4) + \"\\n\"\n",
    "                    else:\n",
    "                        print(f\"Error: Product '{product_name}' not found\")\n",
    "            elif \"category\" in data:\n",
    "                category_name = data[\"category\"]\n",
    "                category_products = get_products_by_category(category_name)\n",
    "                for product in category_products:\n",
    "                    output_string += json.dumps(product, indent=4) + \"\\n\"\n",
    "            else:\n",
    "                print(\"Error: Invalid object format\")\n",
    "        except Exception as e:\n",
    "            print(f\"Error: {e}\")\n",
    "\n",
    "    return output_string "
   ]
  },
  {
   "cell_type": "code",
   "execution_count": 31,
   "id": "a5e18759",
   "metadata": {},
   "outputs": [
    {
     "name": "stdout",
     "output_type": "stream",
     "text": [
      "{\n",
      "    \"name\": \"iPhone 14 Pro\",\n",
      "    \"category\": \"Phones\",\n",
      "    \"brand\": \"Apple\",\n",
      "    \"model_number\": \"14 Pro\",\n",
      "    \"warranty\": \"1 year\",\n",
      "    \"rating\": 4.5,\n",
      "    \"features\": [\n",
      "        \"6.7-inch Super Retina XDR display\",\n",
      "        \"A15 Bionic chip\",\n",
      "        \"128GB storage\"\n",
      "    ],\n",
      "    \"description\": \"The latest flagship iPhone with a stunning display and powerful performance.\",\n",
      "    \"price_monthly\": \"\\u00a370\"\n",
      "}\n",
      "{\n",
      "    \"name\": \"Nintendo Switch\",\n",
      "    \"category\": \"Accessories and Electronics\",\n",
      "    \"brand\": \"Nintendo\",\n",
      "    \"model_number\": \"Switch\",\n",
      "    \"warranty\": \"1 year\",\n",
      "    \"rating\": 4.5,\n",
      "    \"features\": [\n",
      "        \"Hybrid gaming console\",\n",
      "        \"Play at home or on the go\",\n",
      "        \"Wide library of games\"\n",
      "    ],\n",
      "    \"description\": \"Versatile gaming console that allows you to play your favorite games both on your TV and as a handheld device.\",\n",
      "    \"price_monthly\": \"\\u00a330\"\n",
      "}\n",
      "{\n",
      "    \"name\": \"Fibre Broadband\",\n",
      "    \"category\": \"Broadband\",\n",
      "    \"brand\": \"Various\",\n",
      "    \"model_number\": \"N/A\",\n",
      "    \"warranty\": \"1 year\",\n",
      "    \"rating\": 4.5,\n",
      "    \"features\": [\n",
      "        \"Superfast fibre optic broadband\",\n",
      "        \"Unlimited data\",\n",
      "        \"High download and upload speeds\"\n",
      "    ],\n",
      "    \"description\": \"High-speed fibre broadband service offering fast and stable internet connection for your home.\",\n",
      "    \"price_monthly\": \"\\u00a335\"\n",
      "}\n",
      "\n"
     ]
    }
   ],
   "source": [
    "product_information_for_user_message_1 = generate_output_string(category_and_product_list)\n",
    "print(product_information_for_user_message_1)"
   ]
  },
  {
   "attachments": {},
   "cell_type": "markdown",
   "id": "5464be6a-d24d-43fa-b9ef-59ded464b087",
   "metadata": {},
   "source": [
    "### Generate answer to user query based on detailed product information"
   ]
  },
  {
   "cell_type": "code",
   "execution_count": 34,
   "id": "6d3ad31e",
   "metadata": {},
   "outputs": [
    {
     "name": "stdout",
     "output_type": "stream",
     "text": [
      "The iPhone 14 Pro is the latest flagship phone from Apple. It features a 6.7-inch Super Retina XDR display, an A15 Bionic chip, and 128GB of storage. It comes with a 1-year warranty and is priced at £70 per month. Can I help you with anything else about the iPhone 14 Pro?\n",
      "\n",
      "The Nintendo Switch is a versatile gaming console that allows you to play games both on your TV and as a handheld device. It has a wide library of games and comes with a 1-year warranty. The Nintendo Switch is priced at £30 per month. Is there anything specific you would like to know about the Nintendo Switch?\n",
      "\n",
      "Our broadband service offers superfast fibre optic internet with unlimited data and high download and upload speeds. It is priced at £35 per month. Can I assist you with any other questions about our broadband service?\n"
     ]
    }
   ],
   "source": [
    "system_message = f\"\"\"\n",
    "You are a customer service assistant for a \\\n",
    "large electronic store. \\\n",
    "Respond in a friendly and helpful tone, \\\n",
    "with very concise answers. \\\n",
    "Make sure to ask the user relevant follow up questions.\n",
    "\"\"\"\n",
    "user_message_1 = f\"\"\"\n",
    "tell me about the iphone 14 pro phone and \\\n",
    " the nintendo switch. \\\n",
    " Also tell me about your broadband \"\"\"\n",
    "messages =  [  \n",
    "{'role':'system',\n",
    " 'content': system_message},   \n",
    "{'role':'user',\n",
    " 'content': user_message_1},  \n",
    "{'role':'assistant',\n",
    " 'content': f\"\"\"Relevant product information:\\n\\\n",
    " {product_information_for_user_message_1}\"\"\"},   \n",
    "]\n",
    "final_response = get_completion_from_messages(messages)\n",
    "print(final_response)"
   ]
  },
  {
   "cell_type": "code",
   "execution_count": null,
   "id": "075dfa08",
   "metadata": {},
   "outputs": [],
   "source": [
    "## Why should we not just load the entire context information (product catalogue) into context and get the same result ?\n",
    "\n",
    "- cost, tokens, processing/speed"
   ]
  }
 ],
 "metadata": {
  "kernelspec": {
   "display_name": "Python 3 (ipykernel)",
   "language": "python",
   "name": "python3"
  },
  "language_info": {
   "codemirror_mode": {
    "name": "ipython",
    "version": 3
   },
   "file_extension": ".py",
   "mimetype": "text/x-python",
   "name": "python",
   "nbconvert_exporter": "python",
   "pygments_lexer": "ipython3",
   "version": "3.11.3"
  }
 },
 "nbformat": 4,
 "nbformat_minor": 5
}
