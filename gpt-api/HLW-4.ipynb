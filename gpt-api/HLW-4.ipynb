{
 "cells": [
  {
   "attachments": {},
   "cell_type": "markdown",
   "id": "0e7531d5-0c22-49ad-9d37-8b08eec7d4e0",
   "metadata": {},
   "source": [
    "# Chain of Thought Reasoning"
   ]
  },
  {
   "attachments": {},
   "cell_type": "markdown",
   "id": "2adc30a8",
   "metadata": {},
   "source": [
    "<a href=\"https://colab.research.google.com/github/stevengonsalvez/LLM-dojo/blob/main/gpt-api/HLW-4.ipynb\" target=\"_parent\"><img src=\"https://colab.research.google.com/assets/colab-badge.svg\" alt=\"Open In Colab\"/></a>"
   ]
  },
  {
   "attachments": {},
   "cell_type": "markdown",
   "id": "e613f6af-ce1c-49ea-ae99-0d2e3fa3fae1",
   "metadata": {},
   "source": [
    "## Setup\n",
    "#### Load the API key and relevant Python libaries.\n",
    "In this course, we've provided some code that loads the OpenAI API key for you."
   ]
  },
  {
   "cell_type": "code",
   "execution_count": null,
   "id": "db4d8d41",
   "metadata": {},
   "outputs": [],
   "source": [
    "!pip install openai tiktoken python-dotenv"
   ]
  },
  {
   "cell_type": "code",
   "execution_count": 1,
   "id": "0df1c9e8",
   "metadata": {
    "height": 132
   },
   "outputs": [],
   "source": [
    "import os\n",
    "import openai\n",
    "import sys\n",
    "from dotenv import load_dotenv, find_dotenv\n",
    "_ = load_dotenv(find_dotenv())\n",
    "\n",
    "openai.api_key  = os.environ['OPENAI_API_KEY']"
   ]
  },
  {
   "cell_type": "code",
   "execution_count": 2,
   "id": "b98a05b6",
   "metadata": {
    "height": 198
   },
   "outputs": [],
   "source": [
    "def get_completion_from_messages(messages, \n",
    "                                 model=\"gpt-3.5-turbo\", \n",
    "                                 temperature=0, max_tokens=500):\n",
    "    response = openai.ChatCompletion.create(\n",
    "        model=model,\n",
    "        messages=messages,\n",
    "        temperature=temperature, \n",
    "        max_tokens=max_tokens, \n",
    "    )\n",
    "    return response.choices[0].message[\"content\"]"
   ]
  },
  {
   "attachments": {},
   "cell_type": "markdown",
   "id": "119d273f-df72-47e2-a9a6-a8994d742aec",
   "metadata": {},
   "source": [
    "## Chain-of-Thought Prompting"
   ]
  },
  {
   "cell_type": "code",
   "execution_count": 7,
   "id": "e0e66beb-8fb5-4c7b-afa7-13d20ded1d49",
   "metadata": {
    "height": 1558
   },
   "outputs": [],
   "source": [
    "delimiter = \"####\"\n",
    "system_message = f\"\"\"\n",
    "Follow these steps to answer the customer queries.\n",
    "The customer query will be delimited with four hashtags,\\\n",
    "i.e. {delimiter}. \n",
    "\n",
    "Step 1:{delimiter} First decide whether the user is \\\n",
    "asking a question about a specific product or products. \\\n",
    "Product cateogry doesn't count. \n",
    "\n",
    "Step 2:{delimiter} If the user is asking about \\\n",
    "specific products, identify whether \\\n",
    "the products are in the following list.\n",
    "All available products: \n",
    "\n",
    "1. **Samsung Galaxy S23**\n",
    "   - Brand: Samsung\n",
    "   - Model: Galaxy S23\n",
    "   - Warranty: 1 year\n",
    "   - Features: Not provided\n",
    "   - Description: Save up to £336 and get a pair of Galaxy Buds2 Pro worth £219\n",
    "   - Data: 125 GB\n",
    "   - Price monthly: £24\n",
    "   - Upfront cost: £0\n",
    "   - Battery: 3800 mah\n",
    "\n",
    "2. **Apple iPhone 14 Pro Max**\n",
    "   - Brand: Apple\n",
    "   - Model: iPhone 14 Pro Max\n",
    "   - Warranty: 3 years\n",
    "   - Features: Not provided\n",
    "   - Description: Save up to £288 with trade-in and get 125GB for the price of 25GB\n",
    "   - Data: 125GB\n",
    "   - Price monthly: £40\n",
    "   - Upfront cost: Not provided\n",
    "   - Battery: 4002 mah\n",
    "\n",
    "3. **Google Pixel 6a**\n",
    "   - Brand: Google\n",
    "   - Model: Pixel 6a\n",
    "   - Warranty: 3 years\n",
    "   - Features: Not provided\n",
    "   - Description: Get a Google Pixel 6a from just £24 per month and save up to £144\n",
    "   - Data: 125 GB\n",
    "   - Price monthly: £24\n",
    "   - Upfront cost: £0\n",
    "   - Battery: 3900 mah\n",
    "\n",
    "4. **Google Pixel 7 Pro**\n",
    "   - Brand: Google\n",
    "   - Model: Pixel 7 Pro\n",
    "   - Warranty: 3 years\n",
    "   - Features: Not provided\n",
    "   - Description: Save £432 with Summer Savers\n",
    "   - Data: 150 GB\n",
    "   - Price monthly: £50 (was £68)\n",
    "   - Upfront cost: £10\n",
    "   - Battery: 4355 mah\n",
    "\n",
    "5. **Samsung Galaxy A54 5G**\n",
    "   - Brand: Samsung\n",
    "   - Model: Galaxy A54 5G\n",
    "   - Warranty: 2 years\n",
    "   - Features: 40 mp camera\n",
    "   - Description: Save £432 with Summer Savers, No upfront cost\n",
    "   - Data: 125GB\n",
    "   - Price monthly: £33 (was £49)\n",
    "   - Upfront cost: £0\n",
    "   - Battery: 3900 mah\n",
    "\n",
    "\n",
    "Step 3:{delimiter} If the message contains products \\\n",
    "in the list above, list any assumptions that the \\\n",
    "user is making in their \\\n",
    "message e.g. that mobile X is bigger than \\\n",
    "Laptop Y, or that mobile Z has a 2 year warranty.\n",
    "\n",
    "Step 4:{delimiter}: If the user made any assumptions, \\\n",
    "figure out whether the assumption is true based on your \\\n",
    "product information. \n",
    "\n",
    "Step 5:{delimiter}: First, politely correct the \\\n",
    "customer's incorrect assumptions if applicable. \\\n",
    "Only mention or reference products in the list of \\\n",
    "5 available products, as these are the only 5 \\\n",
    "products that the store sells. \\\n",
    "Answer the customer in a friendly tone.\n",
    "\n",
    "Use the following format:\n",
    "Step 1:{delimiter} <step 1 reasoning>\n",
    "Step 2:{delimiter} <step 2 reasoning>\n",
    "Step 3:{delimiter} <step 3 reasoning>\n",
    "Step 4:{delimiter} <step 4 reasoning>\n",
    "Response to user:{delimiter} <response to customer>\n",
    "\n",
    "Make sure to include {delimiter} to separate every step.\n",
    "\"\"\""
   ]
  },
  {
   "cell_type": "code",
   "execution_count": 5,
   "id": "6be1ea0a-a816-4694-8a79-77d985f2e274",
   "metadata": {
    "height": 249
   },
   "outputs": [
    {
     "name": "stdout",
     "output_type": "stream",
     "text": [
      "Step 1:#### The user is asking about the price difference between the Galaxy A54 and the Google Pixel 7.\n",
      "Step 2:#### Both the Galaxy A54 and the Google Pixel 7 are available products.\n",
      "Step 3:#### The user assumes that the Galaxy A54 is more expensive than the Google Pixel 7.\n",
      "Step 4:#### Based on the product information, the Galaxy A54 is actually cheaper than the Google Pixel 7.\n",
      "Response to user:#### The Galaxy A54 is actually cheaper than the Google Pixel 7. The Galaxy A54 is priced at £33 per month (was £49) with no upfront cost, while the Google Pixel 7 is priced at £50 per month (was £68) with a £10 upfront cost.\n"
     ]
    }
   ],
   "source": [
    "user_message = f\"\"\"\n",
    "by how much is the Galaxy A54 more expensive \\\n",
    "than the Google pixel 7\"\"\"\n",
    "\n",
    "messages =  [  \n",
    "{'role':'system', \n",
    " 'content': system_message},    \n",
    "{'role':'user', \n",
    " 'content': f\"{delimiter}{user_message}{delimiter}\"},  \n",
    "] \n",
    "\n",
    "response = get_completion_from_messages(messages)\n",
    "print(response)"
   ]
  },
  {
   "cell_type": "code",
   "execution_count": 8,
   "id": "f51afe6d",
   "metadata": {
    "height": 198
   },
   "outputs": [
    {
     "name": "stdout",
     "output_type": "stream",
     "text": [
      "Step 1:#### The user is asking if the store sells TVs. This is a question about a specific product.\n",
      "\n",
      "Step 2:#### TVs are not included in the list of available products. Therefore, the store does not sell TVs.\n",
      "\n",
      "Response to user:#### I'm sorry, but we do not sell TVs. Our store specializes in mobile phones and accessories. If you have any questions about our available products, feel free to ask.\n"
     ]
    }
   ],
   "source": [
    "user_message = f\"\"\"\n",
    "do you sell tvs\"\"\"\n",
    "messages =  [  \n",
    "{'role':'system', \n",
    " 'content': system_message},    \n",
    "{'role':'user', \n",
    " 'content': f\"{delimiter}{user_message}{delimiter}\"},  \n",
    "] \n",
    "response = get_completion_from_messages(messages)\n",
    "print(response)"
   ]
  },
  {
   "attachments": {},
   "cell_type": "markdown",
   "id": "992199db",
   "metadata": {},
   "source": []
  },
  {
   "attachments": {},
   "cell_type": "markdown",
   "id": "a552a4f6-5e65-4d85-9579-5263f720aa10",
   "metadata": {},
   "source": [
    "## Inner Monologue\n",
    "- Since we asked the LLM to separate its reasoning steps by a delimiter, we can hide the chain-of-thought reasoning from the final output that the user sees."
   ]
  },
  {
   "cell_type": "code",
   "execution_count": 9,
   "id": "2a825237",
   "metadata": {
    "height": 130
   },
   "outputs": [
    {
     "name": "stdout",
     "output_type": "stream",
     "text": [
      "I'm sorry, but we do not sell TVs. Our store specializes in mobile phones and accessories. If you have any questions about our available products, feel free to ask.\n"
     ]
    }
   ],
   "source": [
    "try:\n",
    "    final_response = response.split(delimiter)[-1].strip()\n",
    "except Exception as e:\n",
    "    final_response = \"Sorry, I'm having trouble right now, please try asking another question.\"\n",
    "    \n",
    "print(final_response)"
   ]
  }
 ],
 "metadata": {
  "kernelspec": {
   "display_name": "Python 3 (ipykernel)",
   "language": "python",
   "name": "python3"
  },
  "language_info": {
   "codemirror_mode": {
    "name": "ipython",
    "version": 3
   },
   "file_extension": ".py",
   "mimetype": "text/x-python",
   "name": "python",
   "nbconvert_exporter": "python",
   "pygments_lexer": "ipython3",
   "version": "3.11.3"
  }
 },
 "nbformat": 4,
 "nbformat_minor": 5
}
