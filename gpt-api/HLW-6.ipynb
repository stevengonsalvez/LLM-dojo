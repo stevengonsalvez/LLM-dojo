{
 "cells": [
  {
   "attachments": {},
   "cell_type": "markdown",
   "id": "d0670f1d-a612-4c45-b8e8-9be339e552d1",
   "metadata": {},
   "source": [
    "# Output Validations"
   ]
  },
  {
   "attachments": {},
   "cell_type": "markdown",
   "id": "9c05cb11",
   "metadata": {},
   "source": [
    "<a href=\"https://colab.research.google.com/github/stevengonsalvez/LLM-dojo/blob/main/gpt-api/HLW-6.ipynb\" target=\"_parent\"><img src=\"https://colab.research.google.com/assets/colab-badge.svg\" alt=\"Open In Colab\"/></a>"
   ]
  },
  {
   "attachments": {},
   "cell_type": "markdown",
   "id": "d8adb9f4-f9ed-4c9f-8495-049c16548003",
   "metadata": {},
   "source": [
    "## Setup\n",
    "#### Load the API key and relevant Python libaries.\n",
    "In this course, we've provided some code that loads the OpenAI API key for you."
   ]
  },
  {
   "cell_type": "code",
   "execution_count": null,
   "id": "4a3902d5",
   "metadata": {},
   "outputs": [],
   "source": [
    "!pip install openai tiktoken python-dotenv"
   ]
  },
  {
   "cell_type": "code",
   "execution_count": null,
   "id": "6af3568d",
   "metadata": {},
   "outputs": [],
   "source": [
    "import os\n",
    "import openai\n",
    "from dotenv import load_dotenv, find_dotenv\n",
    "_ = load_dotenv(find_dotenv()) # read local .env file\n",
    "\n",
    "openai.api_key  = os.environ['OPENAI_API_KEY']"
   ]
  },
  {
   "attachments": {},
   "cell_type": "markdown",
   "id": "dde70290",
   "metadata": {},
   "source": [
    "### Execute when running in colab with env var in drive"
   ]
  },
  {
   "cell_type": "code",
   "execution_count": null,
   "id": "38b3bda3",
   "metadata": {},
   "outputs": [],
   "source": [
    "from google.colab import drive\n",
    "\n",
    "drive.mount('/content/drive')"
   ]
  },
  {
   "cell_type": "code",
   "execution_count": null,
   "id": "e81b090f",
   "metadata": {},
   "outputs": [],
   "source": [
    "import os\n",
    "\n",
    "!source /content/drive/MyDrive/env_vars.sh"
   ]
  },
  {
   "cell_type": "code",
   "execution_count": null,
   "id": "1a858d53",
   "metadata": {},
   "outputs": [],
   "source": [
    "def get_completion_from_messages(messages, model=\"gpt-3.5-turbo\", temperature=0, max_tokens=500):\n",
    "    response = openai.ChatCompletion.create(\n",
    "        model=model,\n",
    "        messages=messages,\n",
    "        temperature=temperature, \n",
    "        max_tokens=max_tokens, \n",
    "    )\n",
    "    return response.choices[0].message[\"content\"]"
   ]
  },
  {
   "attachments": {},
   "cell_type": "markdown",
   "id": "9f7d3db3-2258-48c9-819e-cfd8780416e3",
   "metadata": {},
   "source": [
    "### Check output for potentially harmful content"
   ]
  },
  {
   "cell_type": "code",
   "execution_count": null,
   "id": "6164c53b",
   "metadata": {},
   "outputs": [],
   "source": [
    "final_response_to_customer = f\"\"\"\n",
    "The iPhone 14 Pro is the latest flagship phone from Apple. It features a 6.7-inch Super Retina XDR display, an A15 Bionic chip, and 128GB of storage. It comes with a 1-year warranty and is priced at £70 per month. Can I help you with anything else about the iPhone 14 Pro?\n",
    "The Nintendo Switch is a versatile gaming console that allows you to play games both on your TV and as a handheld device. It has a wide library of games and comes with a 1-year warranty. The Nintendo Switch is priced at £30 per month. Is there anything specific you would like to know about the Nintendo Switch?\n",
    "Our broadband service offers superfast fibre optic internet with unlimited data and high download and upload speeds. It is priced at £35 per month. Can I assist you with any other questions about our broadband service?\n",
    "\"\"\"\n",
    "response = openai.Moderation.create(\n",
    "    input=final_response_to_customer\n",
    ")\n",
    "moderation_output = response[\"results\"][0]\n",
    "print(moderation_output)"
   ]
  },
  {
   "attachments": {},
   "cell_type": "markdown",
   "id": "3dde612c-383e-444a-96d6-51c4f42dfb51",
   "metadata": {},
   "source": [
    "### Check if output relevance and accuracy"
   ]
  },
  {
   "cell_type": "code",
   "execution_count": null,
   "id": "ef6e394f",
   "metadata": {},
   "outputs": [],
   "source": [
    "system_message = f\"\"\"\n",
    "You are an assistant that evaluates whether \\\n",
    "customer service agent responses sufficiently \\\n",
    "answer customer questions, and also validates that \\\n",
    "all the facts the assistant cites from the product \\\n",
    "information are correct.\n",
    "The product information and user and customer \\\n",
    "service agent messages will be delimited by \\\n",
    "3 backticks, i.e. ```.\n",
    "Respond with a Y or N character, with no punctuation:\n",
    "Y - if the output sufficiently answers the question \\\n",
    "AND the response correctly uses product information\n",
    "N - otherwise\n",
    "\n",
    "Output a single letter only.\n",
    "\"\"\"\n",
    "customer_message = f\"\"\"\n",
    "tell me about the iphone 14 pro phone and \\\n",
    " the nintendo switch. \\\n",
    " Also tell me about your broadband \"\"\"\n",
    "product_information = \"\"\"[{\"name\":\"iPhone 14 Pro\",\"category\":\"Phones\",\"brand\":\"Apple\",\"model_number\":\"14 Pro\",\"warranty\":\"1 year\",\"rating\":4.5,\"features\":[\"6.7-inch Super Retina XDR display\",\"A15 Bionic chip\",\"128GB storage\"],\"description\":\"The latest flagship iPhone with a stunning display and powerful performance.\",\"price_monthly\":\"£70\"},{\"name\":\"Nintendo Switch\",\"category\":\"Accessories and Electronics\",\"brand\":\"Nintendo\",\"model_number\":\"Switch\",\"warranty\":\"1 year\",\"rating\":4.5,\"features\":[\"Hybrid gaming console\",\"Play at home or on the go\",\"Wide library of games\"],\"description\":\"Versatile gaming console that allows you to play your favorite games both on your TV and as a handheld device.\",\"price_monthly\":\"£30\"},{\"name\":\"Fibre Broadband\",\"category\":\"Broadband\",\"brand\":\"Various\",\"model_number\":\"N/A\",\"warranty\":\"1 year\",\"rating\":4.5,\"features\":[\"Superfast fibre optic broadband\",\"Unlimited data\",\"High download and upload speeds\"],\"description\":\"High-speed fibre broadband service offering fast and stable internet connection for your home.\",\"price_monthly\":\"£35\"}]\"\"\"\n",
    "q_a_pair = f\"\"\"\n",
    "Customer message: ```{customer_message}```\n",
    "Product information: ```{product_information}```\n",
    "Agent response: ```{final_response_to_customer}```\n",
    "\n",
    "Does the response use the retrieved information correctly?\n",
    "Does the response sufficiently answer the question\n",
    "\n",
    "Output Y or N\n",
    "\"\"\"\n",
    "messages = [\n",
    "    {'role': 'system', 'content': system_message},\n",
    "    {'role': 'user', 'content': q_a_pair}\n",
    "]\n",
    "\n",
    "response = get_completion_from_messages(messages, max_tokens=1)\n",
    "print(response)"
   ]
  },
  {
   "attachments": {},
   "cell_type": "markdown",
   "id": "13558d99",
   "metadata": {},
   "source": [
    "> Chain of thought reasoning on the output validation\n",
    "> - example: validation of tone against brand guidelines (with some specific outlines on brand guidelines )\n",
    "> - could have a set of guidelines/rules against which this validation is done, based on type of user or context"
   ]
  },
  {
   "cell_type": "code",
   "execution_count": null,
   "id": "6c33911c",
   "metadata": {},
   "outputs": [],
   "source": [
    "another_response = \"May the force be with you\"\n",
    "q_a_pair = f\"\"\"\n",
    "Customer message: ```{customer_message}```\n",
    "Product information: ```{product_information}```\n",
    "Agent response: ```{another_response}```\n",
    "\n",
    "Does the response use the retrieved information correctly?\n",
    "Does the response sufficiently answer the question?\n",
    "\n",
    "Output Y or N\n",
    "\"\"\"\n",
    "messages = [\n",
    "    {'role': 'system', 'content': system_message},\n",
    "    {'role': 'user', 'content': q_a_pair}\n",
    "]\n",
    "\n",
    "response = get_completion_from_messages(messages)\n",
    "print(response)"
   ]
  }
 ],
 "metadata": {
  "kernelspec": {
   "display_name": "Python 3 (ipykernel)",
   "language": "python",
   "name": "python3"
  },
  "language_info": {
   "codemirror_mode": {
    "name": "ipython",
    "version": 3
   },
   "file_extension": ".py",
   "mimetype": "text/x-python",
   "name": "python",
   "nbconvert_exporter": "python",
   "pygments_lexer": "ipython3",
   "version": "3.11.3"
  }
 },
 "nbformat": 4,
 "nbformat_minor": 5
}
